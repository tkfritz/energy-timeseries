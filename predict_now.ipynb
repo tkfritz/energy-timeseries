{
 "cells": [
  {
   "cell_type": "markdown",
   "id": "f599e0d8",
   "metadata": {},
   "source": [
    "# Power consumption prediction for Germany"
   ]
  },
  {
   "cell_type": "code",
   "execution_count": null,
   "id": "4f352309",
   "metadata": {},
   "outputs": [],
   "source": [
    "from functions import *\n",
    "import warnings\n",
    "warnings.filterwarnings('ignore')\n",
    "pipeline_v1()"
   ]
  },
  {
   "cell_type": "code",
   "execution_count": null,
   "id": "2507e705",
   "metadata": {},
   "outputs": [],
   "source": []
  }
 ],
 "metadata": {
  "kernelspec": {
   "display_name": "Python 3 (ipykernel)",
   "language": "python",
   "name": "python3"
  },
  "language_info": {
   "codemirror_mode": {
    "name": "ipython",
    "version": 3
   },
   "file_extension": ".py",
   "mimetype": "text/x-python",
   "name": "python",
   "nbconvert_exporter": "python",
   "pygments_lexer": "ipython3",
   "version": "3.8.15"
  }
 },
 "nbformat": 4,
 "nbformat_minor": 5
}
