{
 "cells": [
  {
   "cell_type": "code",
   "execution_count": null,
   "id": "681e8c1d",
   "metadata": {},
   "outputs": [],
   "source": [
    "## Get new prepocess format running"
   ]
  },
  {
   "cell_type": "code",
   "execution_count": 1,
   "id": "a9dc0052",
   "metadata": {},
   "outputs": [],
   "source": [
    "from functions import *"
   ]
  },
  {
   "cell_type": "code",
   "execution_count": 5,
   "id": "68631d32",
   "metadata": {},
   "outputs": [],
   "source": [
    "models,data, errors=find_data(version='d_easter1')"
   ]
  },
  {
   "cell_type": "code",
   "execution_count": 7,
   "id": "35129af3",
   "metadata": {},
   "outputs": [
    {
     "name": "stdout",
     "output_type": "stream",
     "text": [
      "['Realisierter_Stromverbrauch_202402200600_202403020559_Viertelstunde.csv', 'Realisierter_Stromverbrauch_202402230600_202403050559_Viertelstunde.csv', 'Realisierter_Stromverbrauch_202402240600_202403060559_Viertelstunde.csv', 'Realisierter_Stromverbrauch_202402250600_202403070559_Viertelstunde.csv', 'Realisierter_Stromverbrauch_202402260600_202403080559_Viertelstunde.csv', 'Realisierter_Stromverbrauch_202402270600_202403090559_Viertelstunde.csv', 'Realisierter_Stromverbrauch_202402280600_202403100559_Viertelstunde.csv', 'Realisierter_Stromverbrauch_202402290600_202403110459_Viertelstunde.csv', 'Realisierter_Stromverbrauch_202403010600_202403120459_Viertelstunde.csv', 'Realisierter_Stromverbrauch_202403020600_202403130459_Viertelstunde.csv', 'Realisierter_Stromverbrauch_202403030600_202403140459_Viertelstunde.csv', 'Realisierter_Stromverbrauch_202403040600_202403150459_Viertelstunde.csv', 'Realisierter_Stromverbrauch_202403050600_202403160459_Viertelstunde.csv', 'Realisierter_Stromverbrauch_202403070600_202403180459_Viertelstunde.csv', 'Realisierter_Stromverbrauch_202403080600_202403190459_Viertelstunde.csv', 'Realisierter_Stromverbrauch_202403090600_202403200459_Viertelstunde.csv', 'Realisierter_Stromverbrauch_202403100600_202403210459_Viertelstunde.csv', 'Realisierter_Stromverbrauch_202403110500_202403220459_Viertelstunde.csv', 'Realisierter_Stromverbrauch_202403120500_202403230459_Viertelstunde.csv', 'Realisierter_Stromverbrauch_202403130500_202403240459_Viertelstunde.csv', 'Realisierter_Stromverbrauch_202403140500_202403250459_Viertelstunde.csv', 'Realisierter_Stromverbrauch_202403150500_202403260459_Viertelstunde.csv', 'Realisierter_Stromverbrauch_202403160500_202403270459_Viertelstunde.csv', 'Realisierter_Stromverbrauch_202403170500_202403280459_Viertelstunde.csv', 'Realisierter_Stromverbrauch_202403180500_202403290459_Viertelstunde.csv', 'Realisierter_Stromverbrauch_202403210500_202404010559_Viertelstunde.csv', 'Realisierter_Stromverbrauch_202403220500_202404020559_Viertelstunde.csv', 'Realisierter_Stromverbrauch_202403230500_202404030559_Viertelstunde.csv', 'Realisierter_Stromverbrauch_202403240500_202404040559_Viertelstunde.csv', 'Realisierter_Stromverbrauch_202403250500_202404050559_Viertelstunde.csv', 'Realisierter_Stromverbrauch_202403270500_202404070559_Viertelstunde.csv', 'Realisierter_Stromverbrauch_202404050600_202404160559_Viertelstunde.csv', 'Realisierter_Stromverbrauch_202404060600_202404170559_Viertelstunde.csv'] [[ 0.00000000e+00  1.00000000e+00  2.00000000e+00  3.00000000e+00\n",
      "   4.00000000e+00  5.00000000e+00  6.00000000e+00  7.00000000e+00\n",
      "   8.00000000e+00  9.00000000e+00  1.00000000e+01  1.10000000e+01\n",
      "   1.20000000e+01  1.30000000e+01  1.40000000e+01  1.50000000e+01\n",
      "   1.60000000e+01  1.70000000e+01  1.80000000e+01  1.90000000e+01\n",
      "   2.00000000e+01  2.10000000e+01  2.20000000e+01  2.30000000e+01\n",
      "   2.40000000e+01  2.50000000e+01  2.60000000e+01  2.70000000e+01\n",
      "   2.80000000e+01  2.90000000e+01  3.00000000e+01  3.10000000e+01\n",
      "   3.20000000e+01  3.30000000e+01  3.40000000e+01  3.50000000e+01\n",
      "   3.60000000e+01  3.70000000e+01  3.80000000e+01  3.90000000e+01\n",
      "   4.00000000e+01  4.10000000e+01  4.20000000e+01  4.30000000e+01\n",
      "   4.40000000e+01  4.50000000e+01  4.60000000e+01  4.70000000e+01\n",
      "   4.80000000e+01  4.90000000e+01  5.00000000e+01  5.10000000e+01\n",
      "   5.20000000e+01  5.30000000e+01  5.40000000e+01  5.50000000e+01\n",
      "   5.60000000e+01  5.70000000e+01  5.80000000e+01  5.90000000e+01\n",
      "   6.00000000e+01  6.10000000e+01  6.20000000e+01  6.30000000e+01\n",
      "   6.40000000e+01  6.50000000e+01  6.60000000e+01  6.70000000e+01\n",
      "   6.80000000e+01  6.90000000e+01  7.00000000e+01  7.10000000e+01\n",
      "   7.20000000e+01  7.30000000e+01  7.40000000e+01  7.50000000e+01\n",
      "   7.60000000e+01  7.70000000e+01  7.80000000e+01  7.90000000e+01\n",
      "   8.00000000e+01  8.10000000e+01  8.20000000e+01  8.30000000e+01\n",
      "   8.40000000e+01  8.50000000e+01  8.60000000e+01  8.70000000e+01\n",
      "   8.80000000e+01  8.90000000e+01  9.00000000e+01  9.10000000e+01\n",
      "   9.20000000e+01  9.30000000e+01  9.40000000e+01  9.50000000e+01\n",
      "   9.60000000e+01  9.70000000e+01  9.80000000e+01  9.90000000e+01\n",
      "   1.00000000e+02  1.01000000e+02  1.02000000e+02  1.03000000e+02\n",
      "   1.04000000e+02  1.05000000e+02  1.06000000e+02  1.07000000e+02\n",
      "   1.08000000e+02  1.09000000e+02  1.10000000e+02  1.11000000e+02\n",
      "   1.12000000e+02  1.13000000e+02  1.14000000e+02  1.15000000e+02\n",
      "   1.16000000e+02  1.17000000e+02  1.18000000e+02  1.19000000e+02\n",
      "   1.20000000e+02  1.21000000e+02  1.22000000e+02  1.23000000e+02\n",
      "   1.24000000e+02  1.25000000e+02  1.26000000e+02  1.27000000e+02\n",
      "   1.28000000e+02  1.29000000e+02  1.30000000e+02  1.31000000e+02\n",
      "   1.32000000e+02  1.33000000e+02  1.34000000e+02  1.35000000e+02\n",
      "   1.36000000e+02  1.37000000e+02  1.38000000e+02  1.39000000e+02\n",
      "   1.40000000e+02  1.41000000e+02  1.42000000e+02  1.43000000e+02\n",
      "   1.44000000e+02  1.45000000e+02  1.46000000e+02  1.47000000e+02\n",
      "   1.48000000e+02  1.49000000e+02  1.50000000e+02  1.51000000e+02\n",
      "   1.52000000e+02  1.53000000e+02  1.54000000e+02  1.55000000e+02\n",
      "   1.56000000e+02  1.57000000e+02  1.58000000e+02  1.59000000e+02\n",
      "   1.60000000e+02  1.61000000e+02  1.62000000e+02  1.63000000e+02\n",
      "   1.64000000e+02  1.65000000e+02  1.66000000e+02  1.67000000e+02\n",
      "   1.68000000e+02  1.69000000e+02  1.70000000e+02  1.71000000e+02\n",
      "   1.72000000e+02  1.73000000e+02  1.74000000e+02  1.75000000e+02\n",
      "   1.76000000e+02  1.77000000e+02  1.78000000e+02  1.79000000e+02\n",
      "   1.80000000e+02  1.81000000e+02  1.82000000e+02  1.83000000e+02\n",
      "   1.84000000e+02  1.85000000e+02  1.86000000e+02  1.87000000e+02\n",
      "   1.88000000e+02  1.89000000e+02  1.90000000e+02  1.91000000e+02]\n",
      " [ 9.16368295e-02  1.39606946e-01  1.99222753e-01  2.39238013e-01\n",
      "   2.72967638e-01  3.09407099e-01  3.11598652e-01  3.37463938e-01\n",
      "   3.56678289e-01  3.70963921e-01  3.95853273e-01  4.26952916e-01\n",
      "   4.19322661e-01  4.31838804e-01  4.42828604e-01  4.56805990e-01\n",
      "   4.63989481e-01  4.81319153e-01  4.76199985e-01  4.91732679e-01\n",
      "   4.94386293e-01  5.02678445e-01  5.05169315e-01  5.10681475e-01\n",
      "   5.21053702e-01  5.30783916e-01  5.35603784e-01  5.23336779e-01\n",
      "   5.33696032e-01  5.32503831e-01  5.37890445e-01  5.38029042e-01\n",
      "   5.57573764e-01  5.54964840e-01  5.57349659e-01  5.49507145e-01\n",
      "   5.56136502e-01  5.66639704e-01  5.59681471e-01  5.68538614e-01\n",
      "   5.72698056e-01  5.67988336e-01  5.74151012e-01  5.79728813e-01\n",
      "   5.75500736e-01  5.71646040e-01  5.76567790e-01  5.79879456e-01\n",
      "   5.79450374e-01  5.70093839e-01  5.86411990e-01  5.77128991e-01\n",
      "   5.86417243e-01  5.79685802e-01  5.88335845e-01  5.95750966e-01\n",
      "   5.97394917e-01  5.95635029e-01  5.93311688e-01  5.88591949e-01\n",
      "   5.90523118e-01  5.96140489e-01  6.02385497e-01  5.94489769e-01\n",
      "   5.97550897e-01  6.04131805e-01  6.05863591e-01  5.85756692e-01\n",
      "   5.94815126e-01  5.96386130e-01  6.07172504e-01  5.97531832e-01\n",
      "   5.96097987e-01  5.95962940e-01  5.98319838e-01  5.97245865e-01\n",
      "   5.92849388e-01  5.94175589e-01  5.89388876e-01  5.89792531e-01\n",
      "   5.83722789e-01  5.87645924e-01  5.79004460e-01  5.70469078e-01\n",
      "   5.66662631e-01  5.71381583e-01  5.61707009e-01  5.69606676e-01\n",
      "   5.64312328e-01  5.45211421e-01  5.46029027e-01  5.43468938e-01\n",
      "   5.31302835e-01  5.19774568e-01  5.20548628e-01  5.23144726e-01\n",
      "   5.26540674e-01  5.30719844e-01  5.40423570e-01  5.55819616e-01\n",
      "   5.61199229e-01  5.64995171e-01  5.69593926e-01  5.78414446e-01\n",
      "   5.94232869e-01  5.88999826e-01  6.06074296e-01  6.05501601e-01\n",
      "   6.16399591e-01  6.19108215e-01  6.25493008e-01  6.22238331e-01\n",
      "   6.31460262e-01  6.21111961e-01  6.24712330e-01  6.33176148e-01\n",
      "   6.35860974e-01  6.38652739e-01  6.47674470e-01  6.48577826e-01\n",
      "   6.45481778e-01  6.48143385e-01  6.46750651e-01  6.51152664e-01\n",
      "   6.47345945e-01  6.53568403e-01  6.53245245e-01  6.46671345e-01\n",
      "   6.52540628e-01  6.56081283e-01  6.52059084e-01  6.56625505e-01\n",
      "   6.54856394e-01  6.54636192e-01  6.56003055e-01  6.56409722e-01\n",
      "   6.62113576e-01  6.56163315e-01  6.56736577e-01  6.54831630e-01\n",
      "   6.65085821e-01  6.60696172e-01  6.62417981e-01  6.61539932e-01\n",
      "   6.59608947e-01  6.59945808e-01  6.63142454e-01  6.59398691e-01\n",
      "   6.56603566e-01  6.66691734e-01  6.65055954e-01  6.59118645e-01\n",
      "   6.64957914e-01  6.59662144e-01  6.57324937e-01  6.53526861e-01\n",
      "   6.52895568e-01  6.62054844e-01  6.52003793e-01  6.58478473e-01\n",
      "   6.60358236e-01  6.54291648e-01  6.60679640e-01  6.47674691e-01\n",
      "   6.47285427e-01  6.51635965e-01  6.48830407e-01  6.46772030e-01\n",
      "   6.53911342e-01  6.52423005e-01  6.44632043e-01  6.47992044e-01\n",
      "   6.48202157e-01  6.54733176e-01  6.39073532e-01  6.42425966e-01\n",
      "   6.41595478e-01  6.46791957e-01  6.46218096e-01  6.36570359e-01\n",
      "   6.36796471e-01  6.20816187e-01  6.23095427e-01  6.30327155e-01\n",
      "   6.21328840e-01  6.20173300e-01  6.12345920e-01  6.16770198e-01\n",
      "   6.16150189e-01  6.17903694e-01  6.26291838e-01  6.22115707e-01]\n",
      " [-9.66917374e-03 -1.98076565e-02 -3.94448058e-02 -5.01494210e-02\n",
      "  -6.17693683e-02 -9.00774131e-02 -8.17853237e-02 -1.10425712e-01\n",
      "  -1.26168094e-01 -1.35174560e-01 -1.54393748e-01 -1.85954533e-01\n",
      "  -1.86156950e-01 -1.92199056e-01 -2.00653125e-01 -2.17507059e-01\n",
      "  -2.52485819e-01 -2.48236234e-01 -2.49958577e-01 -2.64789530e-01\n",
      "  -2.75547791e-01 -3.02899886e-01 -2.92795508e-01 -3.08494550e-01\n",
      "  -3.23377984e-01 -3.24836180e-01 -3.23822771e-01 -3.51461604e-01\n",
      "  -3.35059727e-01 -3.51428403e-01 -3.70435974e-01 -3.61726868e-01\n",
      "  -3.60703204e-01 -3.73519432e-01 -3.73677750e-01 -3.71497176e-01\n",
      "  -3.74528257e-01 -3.89278164e-01 -3.89600504e-01 -3.81074849e-01\n",
      "  -3.90293477e-01 -3.86503127e-01 -3.91365403e-01 -4.03888230e-01\n",
      "  -4.23241317e-01 -4.16058777e-01 -4.37458971e-01 -4.37762906e-01\n",
      "  -4.65298942e-01 -4.63214865e-01 -4.60884476e-01 -4.62446192e-01\n",
      "  -4.57012306e-01 -4.67468739e-01 -4.75241789e-01 -4.76495384e-01\n",
      "  -4.65394539e-01 -4.58990306e-01 -4.72238039e-01 -4.66110783e-01\n",
      "  -4.63837354e-01 -4.70076825e-01 -4.65492065e-01 -4.72083442e-01\n",
      "  -4.75531964e-01 -4.73424719e-01 -4.73014749e-01 -4.68535381e-01\n",
      "  -4.76187437e-01 -4.81142479e-01 -4.65947193e-01 -4.81209988e-01\n",
      "  -4.70396947e-01 -4.63301876e-01 -4.68991901e-01 -4.65910184e-01\n",
      "  -4.58998957e-01 -4.67576541e-01 -4.60700727e-01 -4.64587541e-01\n",
      "  -4.58336967e-01 -4.57325029e-01 -4.44498564e-01 -4.33024587e-01\n",
      "  -4.14835235e-01 -4.26460211e-01 -3.98727567e-01 -4.10972573e-01\n",
      "  -3.82939122e-01 -3.56756181e-01 -3.45298578e-01 -3.35573838e-01\n",
      "  -3.05914286e-01 -2.85512269e-01 -2.73995446e-01 -2.53090135e-01\n",
      "  -2.73806851e-01 -3.00116010e-01 -3.14849063e-01 -3.52405756e-01\n",
      "  -3.64296971e-01 -3.88085547e-01 -4.17080622e-01 -4.36576777e-01\n",
      "  -4.67581938e-01 -4.77148724e-01 -4.84806254e-01 -4.96988717e-01\n",
      "  -5.15271664e-01 -5.38883412e-01 -5.47636616e-01 -5.49916428e-01\n",
      "  -5.46874984e-01 -5.71990880e-01 -5.80047814e-01 -5.87862877e-01\n",
      "  -5.98209375e-01 -6.05005700e-01 -6.09754204e-01 -6.21294548e-01\n",
      "  -6.23835351e-01 -6.37097263e-01 -6.32179369e-01 -6.45731295e-01\n",
      "  -6.45530181e-01 -6.47597415e-01 -6.41248054e-01 -6.49174595e-01\n",
      "  -6.38058217e-01 -6.45643405e-01 -6.48036504e-01 -6.40140815e-01\n",
      "  -6.47160676e-01 -6.44743797e-01 -6.38910568e-01 -6.48457025e-01\n",
      "  -6.42831089e-01 -6.32806062e-01 -6.41125879e-01 -6.44428029e-01\n",
      "  -6.52669284e-01 -6.61552634e-01 -6.65150603e-01 -6.55469292e-01\n",
      "  -6.61888592e-01 -6.81491894e-01 -6.77529034e-01 -6.71494472e-01\n",
      "  -6.76456165e-01 -6.72717582e-01 -6.77419899e-01 -6.79558195e-01\n",
      "  -6.74724571e-01 -6.66111740e-01 -6.67254231e-01 -6.60982071e-01\n",
      "  -6.68910414e-01 -6.74980158e-01 -6.65531675e-01 -6.59358286e-01\n",
      "  -6.60736243e-01 -6.67485546e-01 -6.55756820e-01 -6.62435421e-01\n",
      "  -6.73771006e-01 -6.61670305e-01 -6.54607326e-01 -6.64229290e-01\n",
      "  -6.64597397e-01 -6.68520326e-01 -6.66595625e-01 -6.60735486e-01\n",
      "  -6.63811591e-01 -6.60554043e-01 -6.44081726e-01 -6.54089378e-01\n",
      "  -6.60044758e-01 -6.34622062e-01 -6.32100025e-01 -6.27431902e-01\n",
      "  -6.25192161e-01 -5.99956315e-01 -5.96963643e-01 -6.04276484e-01\n",
      "  -5.80747637e-01 -5.62628301e-01 -5.44474952e-01 -5.16014721e-01\n",
      "  -5.01805945e-01 -4.98639404e-01 -5.12826380e-01 -5.03038881e-01]]\n"
     ]
    }
   ],
   "source": [
    "print(data,errors)"
   ]
  },
  {
   "cell_type": "code",
   "execution_count": 19,
   "id": "4b6cd0a2",
   "metadata": {},
   "outputs": [],
   "source": [
    "new_real=pd.read_csv(data[-1],delimiter=';')\n",
    "old_real=pd.read_csv(data[-2],delimiter=';')"
   ]
  },
  {
   "cell_type": "code",
   "execution_count": 20,
   "id": "52a637eb",
   "metadata": {},
   "outputs": [
    {
     "name": "stdout",
     "output_type": "stream",
     "text": [
      "       VD-DM-Alles.tabellenKopf.columnHeader.date_start  \\\n",
      "count                                              1056   \n",
      "unique                                             1056   \n",
      "top                                    06.04.2024 06:00   \n",
      "freq                                                  1   \n",
      "\n",
      "       VD-DM-Alles.tabellenKopf.columnHeader.date_end  \\\n",
      "count                                            1056   \n",
      "unique                                           1056   \n",
      "top                                  06.04.2024 06:15   \n",
      "freq                                                1   \n",
      "\n",
      "       Gesamt (Netzlast) [MWh] Originalauflösungen  \\\n",
      "count                                         1056   \n",
      "unique                                         985   \n",
      "top                                              -   \n",
      "freq                                            55   \n",
      "\n",
      "       Residuallast [MWh] Originalauflösungen  \\\n",
      "count                                    1056   \n",
      "unique                                    985   \n",
      "top                                         -   \n",
      "freq                                       55   \n",
      "\n",
      "       Pumpspeicher [MWh] Originalauflösungen  \n",
      "count                                    1056  \n",
      "unique                                    805  \n",
      "top                                         -  \n",
      "freq                                       55  \n"
     ]
    }
   ],
   "source": [
    "print(new_real.describe())"
   ]
  },
  {
   "cell_type": "code",
   "execution_count": 40,
   "id": "c638accc",
   "metadata": {},
   "outputs": [],
   "source": [
    "def prepare_input2(df,pump=False,end=False,bad_cut=0.9,zero_time=(2015,1,1,0,0),old=False,str_convert=True,version='y_fraction1',newest=False):\n",
    "    #zero time of model can change later\n",
    "    zero=datetime(zero_time[0],zero_time[1],zero_time[2],zero_time[3],zero_time[4])\n",
    "    #new column names\n",
    "    if old==False and newest==False:\n",
    "        dic2={'Datum':'Date','Anfang':'Time','Gesamt (Netzlast) [MWh] Originalauflösungen':'total_power','Residuallast [MWh] Originalauflösungen':'residual_power','Pumpspeicher [MWh] Originalauflösungen':'pump_storage'}\n",
    "        df.rename(columns=dic2,inplace=True)\n",
    "    if old==False and newest==True:\n",
    "        dic3={'VD-DM-Alles.tabellenKopf.columnHeader.date_start':'date_time','VD-DM-Alles.tabellenKopf.columnHeader.date_end':'date_time_end','Gesamt (Netzlast) [MWh] Originalauflösungen':'total_power','Residuallast [MWh] Originalauflösungen':'residual_power','Pumpspeicher [MWh] Originalauflösungen':'pump_storage'}\n",
    "        df.rename(columns=dic3,inplace=True)        \n",
    "    elif old==True:\n",
    "        dic1={'Datum':'Date','Uhrzeit':'Time','Gesamt (Netzlast)[MWh]':'total_power','Residuallast[MWh]':'residual_power','Pumpspeicher[MWh]':'pump_storage'}\n",
    "        df.rename(columns=dic1,inplace=True)\n",
    "    #drop columns\n",
    "    if end==True:\n",
    "        df.drop(['Ende'], axis=1, inplace=True)\n",
    "    #cpnvert german float to english \n",
    "    if str_convert==True:\n",
    "        df['residual_power'] = df['residual_power'].str.replace('.','')\n",
    "        df['residual_power'] = df['residual_power'].str.replace('-','0')\n",
    "        df['residual_power'] = df['residual_power'].str.replace(',','.').astype(float)/1000.\n",
    "        df['total_power'] = df['total_power'].str.replace('.','')\n",
    "        df['total_power'] = df['total_power'].str.replace('-','0')    \n",
    "        df['total_power'] = df['total_power'].str.replace(',','.').astype(float)/1000.\n",
    "        if pump==True:\n",
    "            df['pump_storage'] = df['pump_storage'].str.replace('.','')\n",
    "            df['pump_storage'] = df['pump_storage'].str.replace(',','.').astype(float)/1000.       \n",
    "    #old not combined date and time         \n",
    "    if newest==False:        \n",
    "        df['date_time']=pd.to_datetime(df['Date'] + '.' + df['Time'], format='%d.%m.%Y.%H:%M')\n",
    "    #new is combined     \n",
    "    else:\n",
    "        df['date_time']=pd.to_datetime(df['date_time'], format='%d.%m.%Y %H:%M')\n",
    "    delta=str(df.loc[0,'date_time']-zero)\n",
    "    #deltam=time.strftime(delta,'%M')\n",
    "    days=delta.split(' days ')\n",
    "    hour=days[1].split(':')\n",
    "    #difference in fraction of days\n",
    "    diff_frac=float(days[0])+float(hour[0])/24+float(hour[1])/24/60\n",
    "    time1=np.zeros((df.shape[0],5))\n",
    "    for i in range(df.shape[0]):\n",
    "        time1[i,0]=diff_frac+i/4/24\n",
    "        time1[i,1]=time1[i,0]%1\n",
    "        time1[i,2]=(time1[i,0]%7)/7\n",
    "        time1[i,3]=(time1[i,0]%365.25)/365.25\n",
    "        time1[i,4]=i/4/24/365.25      \n",
    "    df['frac_day']=time1[:,1]\n",
    "    df['frac_week']=time1[:,2]\n",
    "    df['frac_year']=time1[:,3]\n",
    "    #works at least for full days, later more checks \n",
    "    #helper parameter used below\n",
    "    df['year']=df.date_time.dt.year.astype(int)\n",
    "    df['month']=df.date_time.dt.month.astype(int)\n",
    "    #days from easter of this year\n",
    "    df['delta_easter']=0\n",
    "    #days from first march of the year, gest holidayts right given leap years\n",
    "    df['delta_march']=0\n",
    "    #works at least for full days, later more checks \n",
    "    for i in range(df.shape[0]):\n",
    "        df['delta_easter'].iloc[i]=(df['date_time'].iloc[i]-pd.to_datetime(easter(df.year.iloc[i]))).days\n",
    "        if df.month.iloc[i]<2.5:\n",
    "            df['delta_march'].iloc[i]=(df['date_time'].iloc[i]-datetime(df['year'].iloc[i]-1,3,1)).days\n",
    "        else:\n",
    "            df['delta_march'].iloc[i]=(df['date_time'].iloc[i]-datetime(df['year'].iloc[i],3,1)).days            \n",
    "    #exclude what is zero at the end\n",
    "    c=0\n",
    "    while df.loc[df.shape[0]+c-1,'total_power']==0:\n",
    "        c-=1\n",
    "    #interpolate linear bad value (only exatcly 0 for now) which are not at the beginning or end \n",
    "    for i in range(1,df.shape[0]+c-2):\n",
    "        if df.loc[i,'total_power']==0:\n",
    "            df.loc[i,'total_power']=(df.loc[i-1,'total_power']+df.loc[i+1,'total_power'])/2    \n",
    "    #return of the the needed columns in the right order, and dleta when last is likely bad\n",
    "    delta=0                   \n",
    "    if df.loc[df.shape[0]+c-1,'total_power']/df.loc[df.shape[0]+c-2,'total_power']<bad_cut:\n",
    "        delta=-1\n",
    "    #return needed output, order matters    \n",
    "    if version=='y_fraction1':    \n",
    "        return df.loc[:df.shape[0]+c-1+delta,['total_power','frac_day', 'frac_week', 'frac_year','date_time']]\n",
    "    elif version=='d_easter1':    \n",
    "        return df.loc[:df.shape[0]+c-1+delta,['frac_day','frac_week','delta_easter','total_power','date_time']] \n",
    "    elif version=='d_march1':    \n",
    "        return df.loc[:df.shape[0]+c-1+delta,['frac_day','frac_week','delta_march','total_power','date_time']]    "
   ]
  },
  {
   "cell_type": "code",
   "execution_count": 54,
   "id": "bdbe3657",
   "metadata": {},
   "outputs": [
    {
     "name": "stdout",
     "output_type": "stream",
     "text": [
      "True\n"
     ]
    },
    {
     "name": "stderr",
     "output_type": "stream",
     "text": [
      "/tmp/ipykernel_10303/1605760439.py:61: SettingWithCopyWarning: \n",
      "A value is trying to be set on a copy of a slice from a DataFrame\n",
      "\n",
      "See the caveats in the documentation: https://pandas.pydata.org/pandas-docs/stable/user_guide/indexing.html#returning-a-view-versus-a-copy\n",
      "  df['delta_easter'].iloc[i]=(df['date_time'].iloc[i]-pd.to_datetime(easter(df.year.iloc[i]))).days\n",
      "/tmp/ipykernel_10303/1605760439.py:65: SettingWithCopyWarning: \n",
      "A value is trying to be set on a copy of a slice from a DataFrame\n",
      "\n",
      "See the caveats in the documentation: https://pandas.pydata.org/pandas-docs/stable/user_guide/indexing.html#returning-a-view-versus-a-copy\n",
      "  df['delta_march'].iloc[i]=(df['date_time'].iloc[i]-datetime(df['year'].iloc[i],3,1)).days\n"
     ]
    }
   ],
   "source": [
    "new_in=prepare_input2(new_real,newest=True,str_convert=False,version='d_easter1')"
   ]
  },
  {
   "cell_type": "code",
   "execution_count": 55,
   "id": "7b834289",
   "metadata": {},
   "outputs": [
    {
     "name": "stdout",
     "output_type": "stream",
     "text": [
      "False\n"
     ]
    },
    {
     "name": "stderr",
     "output_type": "stream",
     "text": [
      "/tmp/ipykernel_10303/1605760439.py:61: SettingWithCopyWarning: \n",
      "A value is trying to be set on a copy of a slice from a DataFrame\n",
      "\n",
      "See the caveats in the documentation: https://pandas.pydata.org/pandas-docs/stable/user_guide/indexing.html#returning-a-view-versus-a-copy\n",
      "  df['delta_easter'].iloc[i]=(df['date_time'].iloc[i]-pd.to_datetime(easter(df.year.iloc[i]))).days\n",
      "/tmp/ipykernel_10303/1605760439.py:65: SettingWithCopyWarning: \n",
      "A value is trying to be set on a copy of a slice from a DataFrame\n",
      "\n",
      "See the caveats in the documentation: https://pandas.pydata.org/pandas-docs/stable/user_guide/indexing.html#returning-a-view-versus-a-copy\n",
      "  df['delta_march'].iloc[i]=(df['date_time'].iloc[i]-datetime(df['year'].iloc[i],3,1)).days\n"
     ]
    }
   ],
   "source": [
    "old_in=prepare_input2(old_real,newest=False,version='d_easter1',str_convert=False)"
   ]
  },
  {
   "cell_type": "code",
   "execution_count": 53,
   "id": "5767e2e1",
   "metadata": {},
   "outputs": [
    {
     "name": "stdout",
     "output_type": "stream",
     "text": [
      "          frac_day    frac_week  delta_easter  total_power\n",
      "count  1001.000000  1001.000000   1001.000000  1001.000000\n",
      "mean      0.493298     0.521021     10.965035    12.597024\n",
      "std       0.284018     0.252071      3.030475     2.085399\n",
      "min       0.000000     0.000000      6.000000     8.815250\n",
      "25%       0.250000     0.346726      8.000000    10.888250\n",
      "50%       0.489583     0.532738     11.000000    12.154250\n",
      "75%       0.729167     0.718750     14.000000    14.547000\n",
      "max       0.989583     0.998512     16.000000    16.649500\n"
     ]
    }
   ],
   "source": [
    "print(new_in.describe())"
   ]
  },
  {
   "cell_type": "code",
   "execution_count": 48,
   "id": "450f7d27",
   "metadata": {},
   "outputs": [],
   "source": [
    "#now hidden parameters for d_easter1 model \n",
    "#parameter, version of models, whetehr process is printed, whether error is used in Figure\n",
    "def pipeline_v3(version='d_easter1',silent=True,plot_error=False,mode='quadratic1',newest=True,old=False):\n",
    "    #get model and data file lists\n",
    "    if version=='y_fraction1':\n",
    "        models,data=find_data(version=version)\n",
    "        #create dummy errors to simplyfy prediction below\n",
    "        errors=np.zeros((3,len(models)))\n",
    "        #create non zero error to avoid error problem\n",
    "        errors[1]=1.\n",
    "    if version=='d_easter1':\n",
    "        models,data,errors=find_data(version=version)   \n",
    "    #also error/offset file if exist    \n",
    "    #last in list is newest \n",
    "    new_real=pd.read_csv(data[-1],delimiter=';')\n",
    "    #prepocess including some data cleaning\n",
    "    print(newest,old)\n",
    "    power_newest=prepare_input2(new_real,newest=newest,old=old,version=version,str_convert=True)\n",
    "    #apply prediction\n",
    "    prediction_newest,y,mo,d,h,mi=predict_from_now(power_newest.loc[power_newest.shape[0]-3:power_newest.shape[0],:],models[:],errors,silent=silent,version=version)\n",
    "    #clean prediction\n",
    "    prediction_newest=clean_prediction(prediction_newest,y,mo,d,h,mi,silent=silent,mode=mode,version=version)\n",
    "    #plot prediction\n",
    "    plot_prediction(power_newest.iloc[:,:],prediction_newest,plot_error=plot_error)"
   ]
  },
  {
   "cell_type": "code",
   "execution_count": 49,
   "id": "d39b8098",
   "metadata": {},
   "outputs": [
    {
     "name": "stdout",
     "output_type": "stream",
     "text": [
      "True False\n",
      "True\n"
     ]
    },
    {
     "name": "stderr",
     "output_type": "stream",
     "text": [
      "/tmp/ipykernel_10303/1605760439.py:19: FutureWarning: The default value of regex will change from True to False in a future version. In addition, single character regular expressions will *not* be treated as literal strings when regex=True.\n",
      "  df['residual_power'] = df['residual_power'].str.replace('.','')\n",
      "/tmp/ipykernel_10303/1605760439.py:22: FutureWarning: The default value of regex will change from True to False in a future version. In addition, single character regular expressions will *not* be treated as literal strings when regex=True.\n",
      "  df['total_power'] = df['total_power'].str.replace('.','')\n",
      "/tmp/ipykernel_10303/1605760439.py:61: SettingWithCopyWarning: \n",
      "A value is trying to be set on a copy of a slice from a DataFrame\n",
      "\n",
      "See the caveats in the documentation: https://pandas.pydata.org/pandas-docs/stable/user_guide/indexing.html#returning-a-view-versus-a-copy\n",
      "  df['delta_easter'].iloc[i]=(df['date_time'].iloc[i]-pd.to_datetime(easter(df.year.iloc[i]))).days\n",
      "/tmp/ipykernel_10303/1605760439.py:65: SettingWithCopyWarning: \n",
      "A value is trying to be set on a copy of a slice from a DataFrame\n",
      "\n",
      "See the caveats in the documentation: https://pandas.pydata.org/pandas-docs/stable/user_guide/indexing.html#returning-a-view-versus-a-copy\n",
      "  df['delta_march'].iloc[i]=(df['date_time'].iloc[i]-datetime(df['year'].iloc[i],3,1)).days\n"
     ]
    },
    {
     "data": {
      "image/png": "[encoded data removed]",
      "text/plain": [
       "<Figure size 640x480 with 1 Axes>"
      ]
     },
     "metadata": {},
     "output_type": "display_data"
    }
   ],
   "source": [
    "pipeline_v3()"
   ]
  },
  {
   "cell_type": "code",
   "execution_count": null,
   "id": "176db31d",
   "metadata": {},
   "outputs": [],
   "source": []
  }
 ],
 "metadata": {
  "kernelspec": {
   "display_name": "Python 3 (ipykernel)",
   "language": "python",
   "name": "python3"
  },
  "language_info": {
   "codemirror_mode": {
    "name": "ipython",
    "version": 3
   },
   "file_extension": ".py",
   "mimetype": "text/x-python",
   "name": "python",
   "nbconvert_exporter": "python",
   "pygments_lexer": "ipython3",
   "version": "3.8.15"
  }
 },
 "nbformat": 4,
 "nbformat_minor": 5
}
